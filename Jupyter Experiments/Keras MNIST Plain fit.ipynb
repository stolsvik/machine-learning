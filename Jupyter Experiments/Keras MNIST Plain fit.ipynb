{
 "cells": [
  {
   "cell_type": "markdown",
   "metadata": {},
   "source": [
    "# Keras MNIST ordinary 'fit' training"
   ]
  },
  {
   "cell_type": "code",
   "execution_count": 1,
   "metadata": {},
   "outputs": [
    {
     "name": "stderr",
     "output_type": "stream",
     "text": [
      "Using TensorFlow backend.\n"
     ]
    },
    {
     "name": "stdout",
     "output_type": "stream",
     "text": [
      "Python: 3.6.1, TensorFlow:1.2.0, Keras:2.0.5\n",
      "(60000, 784) TRAIN samples\n",
      "(10000, 784) TEST samples\n",
      "_________________________________________________________________\n",
      "Layer (type)                 Output Shape              Param #   \n",
      "=================================================================\n",
      "dense_1 (Dense)              (None, 800)               628000    \n",
      "_________________________________________________________________\n",
      "dense_2 (Dense)              (None, 800)               640800    \n",
      "_________________________________________________________________\n",
      "dense_3 (Dense)              (None, 10)                8010      \n",
      "=================================================================\n",
      "Total params: 1,276,810\n",
      "Trainable params: 1,276,810\n",
      "Non-trainable params: 0\n",
      "_________________________________________________________________\n",
      "Running process: [timeout 300 nvidia-smi --query-gpu=utilization.gpu,utilization.memory --format=csv,nounits -lms 100 -f GPU-info.csv]\n"
     ]
    },
    {
     "data": {
      "application/vnd.jupyter.widget-view+json": {
       "model_id": "804aa641356048fbaad9577095bf03fb"
      }
     },
     "metadata": {},
     "output_type": "display_data"
    },
    {
     "data": {
      "application/vnd.jupyter.widget-view+json": {
       "model_id": "714570180f0b4452ae3ee18aa5b1a8d2"
      }
     },
     "metadata": {},
     "output_type": "display_data"
    },
    {
     "data": {
      "application/vnd.jupyter.widget-view+json": {
       "model_id": "aa33f064cfbc406aa9d1cc5876722fc8"
      }
     },
     "metadata": {},
     "output_type": "display_data"
    },
    {
     "data": {
      "application/vnd.jupyter.widget-view+json": {
       "model_id": "cb600163b18740e1a472b57a8bae6fa7"
      }
     },
     "metadata": {},
     "output_type": "display_data"
    },
    {
     "data": {
      "application/vnd.jupyter.widget-view+json": {
       "model_id": "2e0ea093f8e34d52887fb6893bafb583"
      }
     },
     "metadata": {},
     "output_type": "display_data"
    },
    {
     "data": {
      "application/vnd.jupyter.widget-view+json": {
       "model_id": "959aa315592449f2912358c9c5995c8e"
      }
     },
     "metadata": {},
     "output_type": "display_data"
    },
    {
     "data": {
      "application/vnd.jupyter.widget-view+json": {
       "model_id": "71c19eb91e89443db27e1a7e890abab0"
      }
     },
     "metadata": {},
     "output_type": "display_data"
    },
    {
     "data": {
      "application/vnd.jupyter.widget-view+json": {
       "model_id": "0f677584581c4b9cb8ab8aa7c24d3fd9"
      }
     },
     "metadata": {},
     "output_type": "display_data"
    },
    {
     "data": {
      "application/vnd.jupyter.widget-view+json": {
       "model_id": "b7cd2edd7c164ede80a6a5384f6b7674"
      }
     },
     "metadata": {},
     "output_type": "display_data"
    },
    {
     "data": {
      "application/vnd.jupyter.widget-view+json": {
       "model_id": "fb19b8fef9cf4392ada4b0b5518c131d"
      }
     },
     "metadata": {},
     "output_type": "display_data"
    },
    {
     "data": {
      "application/vnd.jupyter.widget-view+json": {
       "model_id": "9fa17a5219084d6c8de86524f362323d"
      }
     },
     "metadata": {},
     "output_type": "display_data"
    },
    {
     "data": {
      "application/vnd.jupyter.widget-view+json": {
       "model_id": "66b9aa1ac86c4bba9cc8b65e889f519f"
      }
     },
     "metadata": {},
     "output_type": "display_data"
    },
    {
     "data": {
      "application/vnd.jupyter.widget-view+json": {
       "model_id": "eb11c6bbf867452e868b3eb144bfa6b5"
      }
     },
     "metadata": {},
     "output_type": "display_data"
    },
    {
     "data": {
      "application/vnd.jupyter.widget-view+json": {
       "model_id": "1204eafc12eb4d3d844b67a270851a1c"
      }
     },
     "metadata": {},
     "output_type": "display_data"
    },
    {
     "data": {
      "application/vnd.jupyter.widget-view+json": {
       "model_id": "2a2c6f74acff498589601c04f12b135f"
      }
     },
     "metadata": {},
     "output_type": "display_data"
    },
    {
     "data": {
      "application/vnd.jupyter.widget-view+json": {
       "model_id": "162eb361d1ef499681bc3413d4b81672"
      }
     },
     "metadata": {},
     "output_type": "display_data"
    },
    {
     "data": {
      "application/vnd.jupyter.widget-view+json": {
       "model_id": "5ccd594b7bc04b6ca36f28c6c5534bf2"
      }
     },
     "metadata": {},
     "output_type": "display_data"
    },
    {
     "data": {
      "application/vnd.jupyter.widget-view+json": {
       "model_id": "078989980c354731b32602430fef2932"
      }
     },
     "metadata": {},
     "output_type": "display_data"
    },
    {
     "data": {
      "application/vnd.jupyter.widget-view+json": {
       "model_id": "f6620489a2fc40429ad1ff32071054f4"
      }
     },
     "metadata": {},
     "output_type": "display_data"
    },
    {
     "data": {
      "application/vnd.jupyter.widget-view+json": {
       "model_id": "0d7541b883714f86a7e4454c07f28f69"
      }
     },
     "metadata": {},
     "output_type": "display_data"
    },
    {
     "data": {
      "application/vnd.jupyter.widget-view+json": {
       "model_id": "f2ffde2deff34c12bf7971ef90c20dd6"
      }
     },
     "metadata": {},
     "output_type": "display_data"
    },
    {
     "name": "stdout",
     "output_type": "stream",
     "text": [
      "\n"
     ]
    },
    {
     "data": {
      "image/png": "[encoded data removed]",
      "text/plain": [
       "<matplotlib.figure.Figure at 0x7f55647564a8>"
      ]
     },
     "metadata": {},
     "output_type": "display_data"
    },
    {
     "name": "stdout",
     "output_type": "stream",
     "text": [
      "Test loss: 0.13875586477\n",
      "Test accuracy: 0.9851\n",
      "Baseline Error: 1.49%\n",
      "TRAINING took 32.90376651589759 seconds.\n"
     ]
    }
   ],
   "source": [
    "import tensorflow as tf\n",
    "import keras\n",
    "from keras.datasets import mnist\n",
    "from keras.models import Sequential\n",
    "from keras.layers import Dense, Dropout\n",
    "from keras.optimizers import RMSprop\n",
    "from timeit import default_timer as timer\n",
    "import platform\n",
    "\n",
    "from keras_tqdm import TQDMNotebookCallback\n",
    "\n",
    "print(\"Python: {}, TensorFlow:{}, Keras:{}\".\\\n",
    "      format(platform.python_version(), tf.__version__, keras.__version__))\n",
    "\n",
    "# Hyperparameters\n",
    "batch_size = 128\n",
    "epochs = 20\n",
    "num_classes = 10\n",
    "\n",
    "# Load MNIST data\n",
    "(X_train, Y_train), (X_test, Y_test) = mnist.load_data()\n",
    "\n",
    "train_size=len(X_train)\n",
    "test_size=len(X_test)\n",
    "\n",
    "X_train = X_train.reshape(train_size, 784)\n",
    "X_train = X_train.astype('float32')\n",
    "X_train /= 255\n",
    "Y_train = keras.utils.to_categorical(Y_train, num_classes)\n",
    "\n",
    "X_test = X_test.reshape(test_size, 784)\n",
    "X_test = X_test.astype('float32')\n",
    "X_test /= 255\n",
    "Y_test = keras.utils.to_categorical(Y_test, num_classes)\n",
    "\n",
    "print(X_train.shape, 'TRAIN samples')\n",
    "print(X_test.shape, 'TEST samples')\n",
    "\n",
    "model = Sequential()\n",
    "model.add(Dense(800, activation='relu', input_shape=(784,)))\n",
    "model.add(Dense(800, activation='relu'))\n",
    "model.add(Dense(num_classes, activation='softmax'))\n",
    "\n",
    "model.summary()\n",
    "\n",
    "model.compile(loss='categorical_crossentropy',\n",
    "              optimizer=RMSprop(),\n",
    "              metrics=['accuracy'])\n",
    "\n",
    "# ----------\n",
    "import subprocess\n",
    "import shlex\n",
    "nvidia_smi_max_timeout = 300\n",
    "cmd = 'timeout {} nvidia-smi'+\\\n",
    "      ' --query-gpu=utilization.gpu,utilization.memory'+\\\n",
    "      ' --format=csv,nounits -lms 100 -f GPU-info.csv'\n",
    "cmd = cmd.format(nvidia_smi_max_timeout)\n",
    "print(\"Running process: [{}]\".format(cmd))\n",
    "nvidia_smi = subprocess.Popen(shlex.split(cmd))\n",
    "# ----------\n",
    "\n",
    "# ===== EVERYTHING ABOVE HERE IS IDENTICAL BETWEEN \"Plain fit\" and \"with Generator\".\n",
    "\n",
    "\n",
    "time_start = timer()\n",
    "history = model.fit(X_train, Y_train,\n",
    "                    batch_size=batch_size,\n",
    "                    epochs=epochs,\n",
    "                    verbose=0, callbacks=[TQDMNotebookCallback()],\n",
    "                    validation_data=(X_test, Y_test))\n",
    "training_time = timer()-time_start\n",
    "\n",
    "scores = model.evaluate(X_test, Y_test, verbose=0)\n",
    "\n",
    "# ----------\n",
    "import time\n",
    "time.sleep(0.5)\n",
    "nvidia_smi.terminate()\n",
    "time.sleep(0.5)\n",
    "\n",
    "import pandas as pd\n",
    "import matplotlib.pyplot as plt\n",
    "import seaborn as sb\n",
    "sb.set_style(\"darkgrid\")\n",
    "gpu = pd.read_csv(\"./GPU-info.csv\")\n",
    "gpu.plot()\n",
    "plt.show()\n",
    "# ----------\n",
    "\n",
    "print('Test loss:', scores[0])\n",
    "print('Test accuracy:', scores[1])\n",
    "print(\"Baseline Error: %.2f%%\" % (100-scores[1]*100))\n",
    "print(\"TRAINING took {} seconds.\".format(training_time))"
   ]
  },
  {
   "cell_type": "code",
   "execution_count": null,
   "metadata": {
    "collapsed": true
   },
   "outputs": [],
   "source": []
  }
 ],
 "metadata": {
  "kernelspec": {
   "display_name": "Python [conda env:endre-tf]",
   "language": "python",
   "name": "conda-env-endre-tf-py"
  },
  "language_info": {
   "codemirror_mode": {
    "name": "ipython",
    "version": 3
   },
   "file_extension": ".py",
   "mimetype": "text/x-python",
   "name": "python",
   "nbconvert_exporter": "python",
   "pygments_lexer": "ipython3",
   "version": "3.6.1"
  }
 },
 "nbformat": 4,
 "nbformat_minor": 2
}
